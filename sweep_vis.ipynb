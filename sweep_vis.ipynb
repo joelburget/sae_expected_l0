{
 "cells": [
  {
   "cell_type": "code",
   "execution_count": 54,
   "id": "68f5d479-c055-4f02-8510-10d73b1151ca",
   "metadata": {},
   "outputs": [],
   "source": [
    "import os\n",
    "import wandb\n",
    "import torch\n",
    "from main import SparseAutoencoder, input_dim, expansion_factor, tokenizer, hook_point, model\n",
    "from sae_vis.model_fns import AutoEncoder, AutoEncoderConfig\n",
    "from sae_vis.data_storing_fns import SaeVisData\n",
    "from sae_vis.data_config_classes import SaeVisConfig\n",
    "from datasets import load_dataset\n",
    "from datasets.arrow_dataset import Dataset\n",
    "from transformer_lens import utils"
   ]
  },
  {
   "cell_type": "code",
   "execution_count": 3,
   "id": "70ae20e9-e504-4f5b-a719-f993b712bafb",
   "metadata": {},
   "outputs": [],
   "source": [
    "sweep_id = 'uo0dzeuj'\n",
    "project_name = 'sae-expected-l0-sweep-norm'\n",
    "entity = 'PEAR-ML' "
   ]
  },
  {
   "cell_type": "code",
   "execution_count": 4,
   "id": "c3d066d1-1213-4145-bcd5-b08fdc77f8f7",
   "metadata": {},
   "outputs": [],
   "source": [
    "api = wandb.Api()"
   ]
  },
  {
   "cell_type": "code",
   "execution_count": 6,
   "id": "47265b78-9fb3-4472-91dd-88351335f37f",
   "metadata": {},
   "outputs": [],
   "source": [
    "sweep = api.sweep(f'{entity}/{project_name}/sweeps/{sweep_id}')"
   ]
  },
  {
   "cell_type": "code",
   "execution_count": 8,
   "id": "a3e049a3-5739-4b0b-860e-27052785b782",
   "metadata": {},
   "outputs": [
    {
     "name": "stderr",
     "output_type": "stream",
     "text": [
      "/Users/joel/code/sae_expected_l0/.venv/lib/python3.12/site-packages/IPython/core/display.py:431: UserWarning: Consider using IPython.display.IFrame instead\n",
      "  warnings.warn(\"Consider using IPython.display.IFrame instead\")\n"
     ]
    },
    {
     "data": {
      "text/html": [
       "<iframe src='https://wandb.ai/PEAR-ML/sae-expected-l0-sweep-norm/sweeps/uo0dzeuj?jupyter=true' style='border:none;width:100%;height:420px;'></iframe>"
      ],
      "text/plain": [
       "<IPython.core.display.HTML object>"
      ]
     },
     "metadata": {},
     "output_type": "display_data"
    },
    {
     "data": {
      "text/plain": [
       "True"
      ]
     },
     "execution_count": 8,
     "metadata": {},
     "output_type": "execute_result"
    }
   ],
   "source": [
    "sweep.display()"
   ]
  },
  {
   "cell_type": "code",
   "execution_count": 10,
   "id": "30dbc439-7831-4078-ad3a-281efe26a287",
   "metadata": {},
   "outputs": [
    {
     "data": {
      "text/plain": [
       "['fallen-sweep-10',\n",
       " 'logical-sweep-9',\n",
       " 'brisk-sweep-8',\n",
       " 'pleasant-sweep-7',\n",
       " 'fancy-sweep-6',\n",
       " 'robust-sweep-5',\n",
       " 'solar-sweep-4',\n",
       " 'skilled-sweep-3',\n",
       " 'confused-sweep-2',\n",
       " 'fancy-sweep-1']"
      ]
     },
     "execution_count": 10,
     "metadata": {},
     "output_type": "execute_result"
    }
   ],
   "source": [
    "list(run.name for run in sweep.runs)"
   ]
  },
  {
   "cell_type": "code",
   "execution_count": 11,
   "id": "53258a6e-f179-453b-baa6-a0f0dbf26931",
   "metadata": {},
   "outputs": [
    {
     "name": "stdout",
     "output_type": "stream",
     "text": [
      "Failed to download sae.pth from run fallen-sweep-10: It appears that you do not have permission to access the requested resource. Please reach out to the project owner to grant you access. If you have the correct permissions, verify that there are no issues with your networking setup.(Error 404: Not Found)\n",
      "Downloaded uo0dzeuj-files/logical-sweep-9_sae.pth from run logical-sweep-9\n",
      "Downloaded uo0dzeuj-files/brisk-sweep-8_sae.pth from run brisk-sweep-8\n",
      "Downloaded uo0dzeuj-files/pleasant-sweep-7_sae.pth from run pleasant-sweep-7\n",
      "Downloaded uo0dzeuj-files/fancy-sweep-6_sae.pth from run fancy-sweep-6\n",
      "Downloaded uo0dzeuj-files/robust-sweep-5_sae.pth from run robust-sweep-5\n",
      "Downloaded uo0dzeuj-files/solar-sweep-4_sae.pth from run solar-sweep-4\n",
      "Downloaded uo0dzeuj-files/skilled-sweep-3_sae.pth from run skilled-sweep-3\n",
      "Downloaded uo0dzeuj-files/confused-sweep-2_sae.pth from run confused-sweep-2\n",
      "Downloaded uo0dzeuj-files/fancy-sweep-1_sae.pth from run fancy-sweep-1\n"
     ]
    }
   ],
   "source": [
    "save_dir = f'{sweep_id}-files'\n",
    "os.makedirs(save_dir, exist_ok=True)\n",
    "\n",
    "for run in sweep.runs:\n",
    "    file_path = os.path.join(save_dir, f\"{run.name}_sae.pth\")\n",
    "\n",
    "    try:\n",
    "        file = run.file('sae.pth')\n",
    "        file.download(root=save_dir, replace=True)\n",
    "        downloaded_file_path = os.path.join(save_dir, 'sae.pth')\n",
    "        os.rename(downloaded_file_path, file_path)\n",
    "        print(f\"Downloaded {file_path} from run {run.name}\")\n",
    "    except Exception as e:\n",
    "        print(f\"Failed to download sae.pth from run {run.name}: {str(e)}\")"
   ]
  },
  {
   "cell_type": "code",
   "execution_count": 53,
   "id": "986e456b-18a6-4fe2-9e4e-b016b3dc8b24",
   "metadata": {},
   "outputs": [],
   "source": [
    "SEQ_LEN = 128\n",
    "\n",
    "# Load in the data (it's a Dataset object)\n",
    "data = load_dataset(\"roneneldan/TinyStories\", split=\"train\")\n",
    "assert isinstance(data, Dataset)\n",
    "\n",
    "# Tokenize the data (using a utils function) and shuffle it\n",
    "tokenized_data = utils.tokenize_and_concatenate(data, model.tokenizer, max_length=SEQ_LEN) # type: ignore\n",
    "tokenized_data = tokenized_data.shuffle(42)\n",
    "\n",
    "# Get the tokens as a tensor\n",
    "all_tokens = tokenized_data[\"tokens\"]\n",
    "assert isinstance(all_tokens, torch.Tensor)"
   ]
  },
  {
   "cell_type": "code",
   "execution_count": 55,
   "id": "cda8ab51-ab3b-4d71-9524-6475c1c00f8c",
   "metadata": {},
   "outputs": [],
   "source": [
    "for run in sweep.runs:\n",
    "    try:\n",
    "        file_path = os.path.join(save_dir, f\"{run.name}_sae.pth\")\n",
    "        state_dict = torch.load(file_path, map_location=torch.device('cpu'))\n",
    "    except:\n",
    "        continue\n",
    "    sae = SparseAutoencoder(input_dim=input_dim, hidden_dim=input_dim*expansion_factor, stddev_prior=run.config['stddev_prior'])\n",
    "    sae.load_state_dict(state_dict)\n",
    "\n",
    "    new_state_dict = {\n",
    "        \"W_enc\": state_dict[\"encoder.weight\"].T,\n",
    "        \"b_enc\": state_dict[\"encoder.bias\"],\n",
    "        \"W_dec\": state_dict[\"decoder.weight\"].T,\n",
    "        \"b_dec\": state_dict[\"decoder.bias\"],\n",
    "    }\n",
    "\n",
    "    d_hidden, d_in = state_dict[\"encoder.weight\"].shape\n",
    "    cfg = AutoEncoderConfig(d_in=d_in, d_hidden=d_hidden)\n",
    "    encoder = AutoEncoder(cfg)\n",
    "    encoder.load_state_dict(new_state_dict)\n",
    "\n",
    "    sae_vis_config = SaeVisConfig(\n",
    "        hook_point = \"blocks.4.hook_resid_post\",\n",
    "        features = range(64),\n",
    "        verbose = False,\n",
    "    )\n",
    "    \n",
    "    sae_vis_data = SaeVisData.create(\n",
    "        encoder = encoder,\n",
    "        model = model,\n",
    "        tokens = all_tokens[:2048],\n",
    "        cfg = sae_vis_config,\n",
    "    )\n",
    "    \n",
    "    filename = os.path.join(save_dir, f\"{run.name}_vis.html\")\n",
    "    sae_vis_data.save_feature_centric_vis(filename)"
   ]
  }
 ],
 "metadata": {
  "kernelspec": {
   "display_name": "Python 3 (ipykernel)",
   "language": "python",
   "name": "python3"
  },
  "language_info": {
   "codemirror_mode": {
    "name": "ipython",
    "version": 3
   },
   "file_extension": ".py",
   "mimetype": "text/x-python",
   "name": "python",
   "nbconvert_exporter": "python",
   "pygments_lexer": "ipython3",
   "version": "3.12.5"
  }
 },
 "nbformat": 4,
 "nbformat_minor": 5
}
